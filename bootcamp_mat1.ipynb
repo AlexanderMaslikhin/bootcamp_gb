{
 "cells": [
  {
   "cell_type": "markdown",
   "id": "c19c584c",
   "metadata": {},
   "source": [
    "1. \n",
    "\n",
    "\n",
    "$x^2 + 4 \\cdot x + 6$\n",
    "\n",
    "$x^2 + 2 \\cdot 2 \\cdot x + 4 - 4 + 6$\n",
    "\n",
    "$(x + 2)^2 + 2$\n",
    "\n",
    "\n",
    "$x^2 + 9$\n",
    "\n",
    "$x^2 + 2 \\cdot 3 \\cdot x + 9 - 2 \\cdot 3 \\cdot x$\n",
    "\n",
    "$(x + 3)^2 - 6 \\cdot x$"
   ]
  },
  {
   "cell_type": "markdown",
   "id": "6487b7ac",
   "metadata": {},
   "source": [
    "2.\n",
    "\n",
    "\n",
    "$y = x^{sin(x)}$\n",
    "\n",
    "$ln(y) = ln(x^{sin(x)})$\n",
    "\n",
    "$ln(y) = sin(x)ln(x)$"
   ]
  },
  {
   "cell_type": "markdown",
   "id": "d02ce05e",
   "metadata": {},
   "source": [
    "3.\n",
    "\n",
    "\n",
    "$y = 3x + x^3$\n",
    "\n",
    "$x = 1, y = 4, x = -1, y = -4$ Функция нечетная\n",
    "\n",
    "\n",
    "$y = 4^x + 4^{-x}$\n",
    "\n",
    "$x = 1, y = 4.25, x = -1, y = 4.25$ Функция четная\n",
    "\n",
    "\n",
    "$y = (x-1)^3$\n",
    "\n",
    "$x = 1, y = 0, x = -1, y = -8$ Функция общего вида"
   ]
  },
  {
   "cell_type": "code",
   "execution_count": null,
   "id": "962f5f6e",
   "metadata": {},
   "outputs": [],
   "source": []
  }
 ],
 "metadata": {
  "kernelspec": {
   "display_name": "Python 3 (ipykernel)",
   "language": "python",
   "name": "python3"
  },
  "language_info": {
   "codemirror_mode": {
    "name": "ipython",
    "version": 3
   },
   "file_extension": ".py",
   "mimetype": "text/x-python",
   "name": "python",
   "nbconvert_exporter": "python",
   "pygments_lexer": "ipython3",
   "version": "3.9.7"
  }
 },
 "nbformat": 4,
 "nbformat_minor": 5
}
